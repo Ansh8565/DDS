{
  "nbformat": 4,
  "nbformat_minor": 0,
  "metadata": {
    "colab": {
      "provenance": [],
      "include_colab_link": true
    },
    "kernelspec": {
      "name": "python3",
      "display_name": "Python 3"
    },
    "language_info": {
      "name": "python"
    }
  },
  "cells": [
    {
      "cell_type": "markdown",
      "metadata": {
        "id": "view-in-github",
        "colab_type": "text"
      },
      "source": [
        "<a href=\"https://colab.research.google.com/github/Ansh8565/DDS/blob/main/Module2/Lesson7.ipynb\" target=\"_parent\"><img src=\"https://colab.research.google.com/assets/colab-badge.svg\" alt=\"Open In Colab\"/></a>"
      ]
    },
    {
      "cell_type": "markdown",
      "source": [
        "# 📘 Lesson 7: Stack – Definition & Operations (Array Representation)\n",
        "\n",
        "## 🎯 Objectives:\n",
        "- Understand the concept of **Stack** (LIFO – Last In, First Out)\n",
        "- Implement stack operations using **arrays**\n",
        "- Handle stack overflow and underflow\n",
        "- Practice stack creation in both Python and C\n",
        "\n",
        "---\n",
        "\n",
        "## 🔁 What is a Stack?\n",
        "\n",
        "A **Stack** is a linear data structure where:\n",
        "- **Last** element inserted is the **first** to be removed\n",
        "- Works like a pile of plates\n",
        "\n",
        "### Main Operations:\n",
        "- `push(item)` – Add item to top\n",
        "- `pop()` – Remove top item\n",
        "- `peek()` – View top item without removing\n",
        "- `isEmpty()` – Check if stack is empty\n",
        "\n",
        "---\n",
        "\n",
        "## 💡 Real-Life Examples:\n",
        "- Undo feature in editors\n",
        "- Browser back button\n",
        "- Function call stack in recursion\n"
      ],
      "metadata": {
        "id": "IxVOv4Hc3RKm"
      }
    },
    {
      "cell_type": "code",
      "source": [
        "stack = []\n",
        "\n",
        "def push(val):\n",
        "    stack.append(val)\n",
        "    print(f\"Pushed: {val}\")\n",
        "\n",
        "def pop():\n",
        "    if not stack:\n",
        "        print(\"Stack Underflow!\")\n",
        "    else:\n",
        "        print(f\"Popped: {stack.pop()}\")\n",
        "\n",
        "def peek():\n",
        "    if not stack:\n",
        "        print(\"Stack is Empty\")\n",
        "    else:\n",
        "        print(f\"Top Element: {stack[-1]}\")\n",
        "\n",
        "def traverse():\n",
        "    print(\"Stack (Top to Bottom):\", stack[::-1])\n",
        "\n",
        "# 🔍 Test\n",
        "push(23)\n",
        "push(12)\n",
        "push(25)\n",
        "push(32)\n",
        "peek()\n",
        "traverse()\n",
        "# pop()\n",
        "traverse()"
      ],
      "metadata": {
        "id": "c4zqgEJK3QXf",
        "outputId": "59ef9b9e-6512-4a8a-8dd2-222edeced540",
        "colab": {
          "base_uri": "https://localhost:8080/"
        }
      },
      "execution_count": 16,
      "outputs": [
        {
          "output_type": "stream",
          "name": "stdout",
          "text": [
            "Pushed: 23\n",
            "Pushed: 12\n",
            "Popped: 12\n",
            "Pushed: 25\n",
            "Pushed: 32\n",
            "Top Element: 32\n",
            "Stack (Top to Bottom): [32, 25, 23]\n",
            "Stack (Top to Bottom): [32, 25, 23]\n"
          ]
        }
      ]
    },
    {
      "cell_type": "code",
      "source": [
        "# Sample list\n",
        "items = [10, 20, 30, 40, 50]\n",
        "\n",
        "# Initialize an empty stack\n",
        "stack = []\n",
        "\n",
        "# Traverse through the list and push items onto the stack\n",
        "for item in items:\n",
        "    stack.append(item)\n",
        "\n",
        "# Print the stack\n",
        "print(\"Stack:\", stack)\n"
      ],
      "metadata": {
        "id": "9KCRqd5NgLq5",
        "outputId": "52788a22-f4e6-4dda-e594-52339c8a87e7",
        "colab": {
          "base_uri": "https://localhost:8080/"
        }
      },
      "execution_count": 17,
      "outputs": [
        {
          "output_type": "stream",
          "name": "stdout",
          "text": [
            "Stack: [10, 20, 30, 40, 50]\n"
          ]
        }
      ]
    },
    {
      "cell_type": "code",
      "source": [
        "# Sample input string\n",
        "expression = \"5 + 3 * 8 - 6 / 2\"\n",
        "\n",
        "# Stack to store operations\n",
        "operation_stack = []\n",
        "\n",
        "# Define valid operators\n",
        "operators = set('+-*/')\n",
        "\n",
        "# Traverse the string\n",
        "for char in expression:\n",
        "    if char in operators:\n",
        "        operation_stack.append(char)\n",
        "\n",
        "# Print the stack\n",
        "print(\"Operators in stack:\", operation_stack)\n"
      ],
      "metadata": {
        "id": "Q5ur0iWhgs_p",
        "outputId": "eced797d-5013-4df1-b8a9-86d2c762d7b9",
        "colab": {
          "base_uri": "https://localhost:8080/"
        }
      },
      "execution_count": 18,
      "outputs": [
        {
          "output_type": "stream",
          "name": "stdout",
          "text": [
            "Operators in stack: ['+', '*', '-', '/']\n"
          ]
        }
      ]
    },
    {
      "cell_type": "markdown",
      "source": [
        "---\n",
        "\n",
        "## 🧠 Stack in Memory (Array Representation in C)\n",
        "\n",
        "In C, stacks are implemented using a fixed-size array and a `top` index.\n",
        "\n",
        "### Stack Overflow:\n",
        "Occurs when trying to `push()` into a full stack\n",
        "\n",
        "### Stack Underflow:\n",
        "Occurs when trying to `pop()` from an empty stack\n"
      ],
      "metadata": {
        "id": "oE7ri_gV3Z4D"
      }
    },
    {
      "cell_type": "code",
      "source": [
        "c_code = \"\"\"\n",
        "#include <stdio.h>\n",
        "#define SIZE 5\n",
        "\n",
        "int stack[SIZE];\n",
        "int top = -1;\n",
        "\n",
        "void push(int val) {\n",
        "    if (top == SIZE - 1) {\n",
        "        printf(\"Stack Overflow!\\\\n\");\n",
        "    } else {\n",
        "        stack[++top] = val;\n",
        "        printf(\"Pushed: %d\\\\n\", val);\n",
        "    }\n",
        "}\n",
        "\n",
        "void pop() {\n",
        "    if (top == -1) {\n",
        "        printf(\"Stack Underflow!\\\\n\");\n",
        "    } else {\n",
        "        printf(\"Popped: %d\\\\n\", stack[top--]);\n",
        "    }\n",
        "}\n",
        "\n",
        "void peek() {\n",
        "    if (top == -1) {\n",
        "        printf(\"Stack is Empty\\\\n\");\n",
        "    } else {\n",
        "        printf(\"Top Element: %d\\\\n\", stack[top]);\n",
        "    }\n",
        "}\n",
        "\n",
        "void traverse() {\n",
        "    if (top == -1) {\n",
        "        printf(\"Stack is Empty\\\\n\");\n",
        "    } else {\n",
        "        printf(\"Stack (Top to Bottom): \");\n",
        "        for (int i = top; i >= 0; i--) {\n",
        "            printf(\"%d \", stack[i]);\n",
        "        }\n",
        "        printf(\"\\\\n\");\n",
        "    }\n",
        "}\n",
        "\n",
        "int main() {\n",
        "    push(10);\n",
        "    push(20);\n",
        "    peek();\n",
        "    traverse();\n",
        "    pop();\n",
        "    traverse();\n",
        "    return 0;\n",
        "}\n",
        "\"\"\"\n",
        "\n",
        "with open(\"lesson7_stack_array.c\", \"w\") as f:\n",
        "    f.write(c_code)\n"
      ],
      "metadata": {
        "id": "6gajaWzw3cBp"
      },
      "execution_count": null,
      "outputs": []
    },
    {
      "cell_type": "code",
      "source": [
        "!gcc lesson7_stack_array.c -o lesson7_stack\n"
      ],
      "metadata": {
        "id": "xaqe4S9S3feR"
      },
      "execution_count": null,
      "outputs": []
    },
    {
      "cell_type": "code",
      "source": [
        "!./lesson7_stack\n"
      ],
      "metadata": {
        "id": "0ZXp-qhI3iJj"
      },
      "execution_count": null,
      "outputs": []
    },
    {
      "cell_type": "markdown",
      "source": [
        "---\n",
        "\n",
        "## ✅ Summary\n",
        "\n",
        "- Stack is a **LIFO** data structure\n",
        "- Main operations: `push`, `pop`, `peek`, `traverse`\n",
        "- Implemented using array with `top` pointer\n",
        "- Proper checks for **overflow** and **underflow** are essential\n",
        "\n",
        "---\n",
        "\n",
        "## 📘 Viva Questions:\n",
        "\n",
        "1. What is a stack? How is it different from a queue?\n",
        "2. What are overflow and underflow in stack?\n",
        "3. How is a stack represented using array?\n",
        "4. Can we dynamically resize a stack in C?\n",
        "\n",
        "⏭️ Next: **Lesson 8: Stack using Dynamic Arrays**\n"
      ],
      "metadata": {
        "id": "N-Q2xZ0B3jcq"
      }
    }
  ]
}