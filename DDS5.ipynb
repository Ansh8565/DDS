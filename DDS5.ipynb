{
  "nbformat": 4,
  "nbformat_minor": 0,
  "metadata": {
    "colab": {
      "provenance": [],
      "authorship_tag": "ABX9TyM3IcT5EYVWG5ljS8mMORQU",
      "include_colab_link": true
    },
    "kernelspec": {
      "name": "python3",
      "display_name": "Python 3"
    },
    "language_info": {
      "name": "python"
    }
  },
  "cells": [
    {
      "cell_type": "markdown",
      "metadata": {
        "id": "view-in-github",
        "colab_type": "text"
      },
      "source": [
        "<a href=\"https://colab.research.google.com/github/Ansh8565/DDS/blob/main/DDS5.ipynb\" target=\"_parent\"><img src=\"https://colab.research.google.com/assets/colab-badge.svg\" alt=\"Open In Colab\"/></a>"
      ]
    },
    {
      "cell_type": "code",
      "source": [
        "from typing import List\n",
        "class Solution:\n",
        "    def removeElement(self, nums: List[int], val: int) -> int:\n",
        "        k = 0\n",
        "        for i  in range(len(nums)):\n",
        "            if nums[i] != val:\n",
        "                nums[k] =  nums[i]\n",
        "                k+=1\n",
        "\n",
        "        return k\n",
        "\n",
        "class Solution:\n",
        "    def pivotIndex(self, nums: List[int]) -> int:\n",
        "        t = sum(nums)\n",
        "        l_t=0\n",
        "        for i in range(len(nums)):\n",
        "            r_t = t-l_t-nums[i]\n",
        "            if r_t == l_t:\n",
        "                return i\n",
        "            l_t += nums[i]\n",
        "        return -1"
      ],
      "metadata": {
        "id": "00FJb-2WRM2f"
      },
      "execution_count": 10,
      "outputs": []
    },
    {
      "cell_type": "code",
      "source": [],
      "metadata": {
        "id": "LWJD1GMcSRtv"
      },
      "execution_count": null,
      "outputs": []
    },
    {
      "cell_type": "code",
      "source": [],
      "metadata": {
        "id": "tLrfJMBKbSi5"
      },
      "execution_count": null,
      "outputs": []
    }
  ]
}